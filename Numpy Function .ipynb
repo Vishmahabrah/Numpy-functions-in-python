{
 "cells": [
  {
   "cell_type": "code",
   "execution_count": null,
   "id": "1eeb7e5e-2141-4c2f-b44d-6b710622fd49",
   "metadata": {},
   "outputs": [],
   "source": [
    "# 1D array Print"
   ]
  },
  {
   "cell_type": "code",
   "execution_count": 9,
   "id": "fdc3f3ba-5832-4d86-92d3-110f6f7cb584",
   "metadata": {},
   "outputs": [
    {
     "name": "stdout",
     "output_type": "stream",
     "text": [
      "[3 4 5 6]\n"
     ]
    }
   ],
   "source": [
    "\n",
    "import numpy as np\n",
    "arr_1D = np.array([3,4,5,6])\n",
    "print(arr_1D)"
   ]
  },
  {
   "cell_type": "markdown",
   "id": "8e928a4b-6d6a-417c-9b09-e5e425a840ac",
   "metadata": {},
   "source": [
    "# Find array type"
   ]
  },
  {
   "cell_type": "code",
   "execution_count": 10,
   "id": "4e096ec3-59fe-48c3-9afe-a240490f4126",
   "metadata": {},
   "outputs": [
    {
     "data": {
      "text/plain": [
       "numpy.ndarray"
      ]
     },
     "execution_count": 10,
     "metadata": {},
     "output_type": "execute_result"
    }
   ],
   "source": [
    "type(arr_1D)"
   ]
  },
  {
   "cell_type": "markdown",
   "id": "782d9d5d-08dc-4c15-a020-d84723ae0e98",
   "metadata": {},
   "source": [
    "# Find dimension"
   ]
  },
  {
   "cell_type": "code",
   "execution_count": 11,
   "id": "d154cb29-5844-4aeb-965c-d09d10e9d45e",
   "metadata": {},
   "outputs": [
    {
     "data": {
      "text/plain": [
       "1"
      ]
     },
     "execution_count": 11,
     "metadata": {},
     "output_type": "execute_result"
    }
   ],
   "source": [
    "arr_1D.ndim"
   ]
  },
  {
   "cell_type": "markdown",
   "id": "1cf494c1-ab3b-48a6-8c9d-89fdfe1f8847",
   "metadata": {},
   "source": [
    "# Create 2D array and find Data type, array size, array shape"
   ]
  },
  {
   "cell_type": "code",
   "execution_count": 13,
   "id": "33688f00-08b9-48b3-8cc5-815def21bfba",
   "metadata": {},
   "outputs": [
    {
     "name": "stdout",
     "output_type": "stream",
     "text": [
      "[[2 3 4]\n",
      " [5 6 7]]\n"
     ]
    }
   ],
   "source": [
    "arr_2d = np.array(([2,3,4],[5,6,7]))\n",
    "print(arr_2d)"
   ]
  },
  {
   "cell_type": "code",
   "execution_count": 15,
   "id": "97e71aa4-6578-4db3-ade9-c13bc015a6ab",
   "metadata": {},
   "outputs": [
    {
     "data": {
      "text/plain": [
       "dtype('int64')"
      ]
     },
     "execution_count": 15,
     "metadata": {},
     "output_type": "execute_result"
    }
   ],
   "source": [
    "arr_2d.dtype"
   ]
  },
  {
   "cell_type": "code",
   "execution_count": 16,
   "id": "2810254c-4a85-445c-a018-9d79554dfd0a",
   "metadata": {},
   "outputs": [
    {
     "data": {
      "text/plain": [
       "6"
      ]
     },
     "execution_count": 16,
     "metadata": {},
     "output_type": "execute_result"
    }
   ],
   "source": [
    "arr_2d.size\n"
   ]
  },
  {
   "cell_type": "code",
   "execution_count": 17,
   "id": "c789b2f1-8b32-43a3-83d3-636967edf001",
   "metadata": {},
   "outputs": [
    {
     "data": {
      "text/plain": [
       "(2, 3)"
      ]
     },
     "execution_count": 17,
     "metadata": {},
     "output_type": "execute_result"
    }
   ],
   "source": [
    "arr_2d.shape\n"
   ]
  },
  {
   "cell_type": "markdown",
   "id": "7b9341e6-5ecc-41ea-94a5-d224bb5e96b1",
   "metadata": {},
   "source": [
    "# Create an 3D array"
   ]
  },
  {
   "cell_type": "code",
   "execution_count": 43,
   "id": "316c62ea-4366-42ff-a2e0-08887fd4fb4b",
   "metadata": {},
   "outputs": [
    {
     "name": "stdout",
     "output_type": "stream",
     "text": [
      "[[1 1 1]\n",
      " [1 1 1]\n",
      " [1 1 1]]\n"
     ]
    }
   ],
   "source": [
    "mx_2s = np.array(([1,1,1],[1,1,1],[1,1,1]))\n",
    "print(mx_2s)"
   ]
  },
  {
   "cell_type": "markdown",
   "id": "2c1598c4-bd5b-4871-af79-40e47c71102a",
   "metadata": {},
   "source": [
    "# Ones function use only for '1' elements print"
   ]
  },
  {
   "cell_type": "code",
   "execution_count": 44,
   "id": "a10dce17-4cff-45ab-be60-c1571aa3a1e3",
   "metadata": {},
   "outputs": [
    {
     "name": "stdout",
     "output_type": "stream",
     "text": [
      "[1. 1. 1. 1.]\n"
     ]
    }
   ],
   "source": [
    "mx_2s=np.ones((4))\n",
    "print(mx_2s)"
   ]
  },
  {
   "cell_type": "code",
   "execution_count": 45,
   "id": "bf993098-0f1c-4c77-a402-111b641e35c0",
   "metadata": {},
   "outputs": [
    {
     "data": {
      "text/plain": [
       "dtype('float64')"
      ]
     },
     "execution_count": 45,
     "metadata": {},
     "output_type": "execute_result"
    }
   ],
   "source": [
    "mx_2s.dtype #Data type function use"
   ]
  },
  {
   "cell_type": "code",
   "execution_count": 46,
   "id": "e2ca0355-4de1-4911-bb19-a4d66c6e17c6",
   "metadata": {},
   "outputs": [
    {
     "name": "stdout",
     "output_type": "stream",
     "text": [
      "[[1. 1. 1. 1.]\n",
      " [1. 1. 1. 1.]\n",
      " [1. 1. 1. 1.]]\n"
     ]
    }
   ],
   "source": [
    "mx_2s = np.ones((3,4)) # ( 3 Row and 4 Col)\n",
    "print(mx_2s)"
   ]
  },
  {
   "cell_type": "code",
   "execution_count": 50,
   "id": "12ea1fcb-2e07-477c-a97a-dcca1d4d8ea3",
   "metadata": {},
   "outputs": [
    {
     "name": "stdout",
     "output_type": "stream",
     "text": [
      "[[1 1 1 1]\n",
      " [1 1 1 1]\n",
      " [1 1 1 1]]\n"
     ]
    }
   ],
   "source": [
    "mx_2s = np.ones ((3,4), dtype = int) # convert float to int data\n",
    "print(mx_2s)"
   ]
  },
  {
   "cell_type": "code",
   "execution_count": 51,
   "id": "190a6a6b-42e1-447f-98d1-e5adccb2b798",
   "metadata": {},
   "outputs": [
    {
     "name": "stdout",
     "output_type": "stream",
     "text": [
      "[[0. 0. 0. 0. 0. 0.]\n",
      " [0. 0. 0. 0. 0. 0.]\n",
      " [0. 0. 0. 0. 0. 0.]]\n"
     ]
    }
   ],
   "source": [
    "mx_0s = np.zeros((3,6))   # zeros function use only for '0' elements print\n",
    "print(mx_0s)"
   ]
  },
  {
   "cell_type": "code",
   "execution_count": 55,
   "id": "e5223d12-7e64-4243-87a5-e50e22194646",
   "metadata": {},
   "outputs": [
    {
     "name": "stdout",
     "output_type": "stream",
     "text": [
      "[[False False False False False False]\n",
      " [False False False False False False]\n",
      " [False False False False False False]]\n"
     ]
    }
   ],
   "source": [
    "mx_0s = np.zeros((3,6),dtype=bool) # Boolean conversion \n",
    "print(mx_0s)"
   ]
  },
  {
   "cell_type": "code",
   "execution_count": 56,
   "id": "f8d5de91-6b0d-4d96-95e2-c1f8fece06b4",
   "metadata": {},
   "outputs": [
    {
     "name": "stdout",
     "output_type": "stream",
     "text": [
      "[['' '' '' '' '' '']\n",
      " ['' '' '' '' '' '']\n",
      " ['' '' '' '' '' '']]\n"
     ]
    }
   ],
   "source": [
    "mx_0s = np.zeros((3,6),dtype=str)  # String conversion\n",
    "print(mx_0s)"
   ]
  },
  {
   "cell_type": "code",
   "execution_count": 61,
   "id": "8fe4a855-3b46-4893-b094-b2c84480dad4",
   "metadata": {},
   "outputs": [
    {
     "name": "stdout",
     "output_type": "stream",
     "text": [
      "False\n"
     ]
    }
   ],
   "source": [
    "em_str = ''     # Empty string return to boolean \n",
    "print(bool(em_str))"
   ]
  },
  {
   "cell_type": "code",
   "execution_count": 60,
   "id": "7dc22677-1f4e-4f87-b09f-c7b817e5918f",
   "metadata": {},
   "outputs": [
    {
     "name": "stdout",
     "output_type": "stream",
     "text": [
      "[[1.e-323 1.e-323 1.e-323]\n",
      " [2.e-323 2.e-323 2.e-323]\n",
      " [3.e-323 3.e-323 3.e-323]]\n"
     ]
    }
   ],
   "source": [
    "em_mx = np.empty((3,3))\n",
    "print(em_mx)"
   ]
  },
  {
   "cell_type": "code",
   "execution_count": 5,
   "id": "25c25357-4f5c-437f-a6bc-8ef1508ea98a",
   "metadata": {},
   "outputs": [],
   "source": [
    "import numpy as np"
   ]
  },
  {
   "cell_type": "code",
   "execution_count": 35,
   "id": "1dc14bd7-ed4a-46b0-ac93-4a53ab35ca5b",
   "metadata": {},
   "outputs": [
    {
     "name": "stdout",
     "output_type": "stream",
     "text": [
      "[ 1  2  3  4  5  6  7  8  9 10 11 12 13 14 15 16]\n"
     ]
    }
   ],
   "source": [
    "ar_1a = np.arange(1,17)\n",
    "print(ar_1a)"
   ]
  },
  {
   "cell_type": "code",
   "execution_count": 36,
   "id": "7f9a8439-6ac8-4398-bcbe-b9cd8fe6896c",
   "metadata": {},
   "outputs": [
    {
     "name": "stdout",
     "output_type": "stream",
     "text": [
      "[1.         2.33333333 3.66666667 5.        ]\n"
     ]
    }
   ],
   "source": [
    "arr = np.arange(1,11,3) # Arange function Use\n",
    "print(ar_1d)"
   ]
  },
  {
   "cell_type": "code",
   "execution_count": 37,
   "id": "237f899e-6f18-47e3-ad4b-8a95f70929e0",
   "metadata": {},
   "outputs": [
    {
     "name": "stdout",
     "output_type": "stream",
     "text": [
      "[1.         2.33333333 3.66666667 5.        ]\n"
     ]
    }
   ],
   "source": [
    "ar1d = np.linspace(1,5,4) #Linespace Function use spaces generated\n",
    "print(ar_1d)"
   ]
  },
  {
   "cell_type": "code",
   "execution_count": 32,
   "id": "8df85daa-9670-446a-b29f-62eaffa0a765",
   "metadata": {},
   "outputs": [
    {
     "name": "stdout",
     "output_type": "stream",
     "text": [
      "[[ 1  2  3  4  5  6  7  8]\n",
      " [ 9 10 11 12 13 14 15 16]]\n"
     ]
    }
   ],
   "source": [
    "ar_2a = ar_1a.reshape(2,8) # Reshape 1D array to 2D array\n",
    "print(ar_2a)"
   ]
  },
  {
   "cell_type": "code",
   "execution_count": 47,
   "id": "4877b85b-be34-4929-87f7-ffd0cadfd48d",
   "metadata": {},
   "outputs": [
    {
     "name": "stdout",
     "output_type": "stream",
     "text": [
      "[[[ 1  2  3  4]]\n",
      "\n",
      " [[ 5  6  7  8]]\n",
      "\n",
      " [[ 9 10 11 12]]\n",
      "\n",
      " [[13 14 15 16]]]\n"
     ]
    }
   ],
   "source": [
    "ar_3d = ar_1a.reshape(4,1,4) #1D to 3D matrix conversion\n",
    "print(ar_3d)"
   ]
  },
  {
   "cell_type": "code",
   "execution_count": 50,
   "id": "78a17967-a6b7-4640-be27-e53fc7672aaf",
   "metadata": {},
   "outputs": [
    {
     "name": "stdout",
     "output_type": "stream",
     "text": [
      "[[ 1  2  3  4]\n",
      " [ 5  6  7  8]\n",
      " [ 9 10 11 12]\n",
      " [13 14 15 16]]\n"
     ]
    }
   ],
   "source": [
    "ar=np.arange(1,17).reshape(4,4) # Arange & reshape function use together\n",
    "print(ar)"
   ]
  },
  {
   "cell_type": "code",
   "execution_count": 52,
   "id": "2b2a58f2-f5fc-432f-98b6-23045cf13b19",
   "metadata": {},
   "outputs": [
    {
     "data": {
      "text/plain": [
       "array([ 1,  2,  3,  4,  5,  6,  7,  8,  9, 10, 11, 12, 13, 14, 15, 16])"
      ]
     },
     "execution_count": 52,
     "metadata": {},
     "output_type": "execute_result"
    }
   ],
   "source": [
    "ar.ravel() # multidimension function convert into 1D array\n"
   ]
  },
  {
   "cell_type": "code",
   "execution_count": 55,
   "id": "cd76aaa9-a5ed-4d85-a135-d41cd31ba92e",
   "metadata": {},
   "outputs": [
    {
     "data": {
      "text/plain": [
       "array([ 1,  2,  3,  4,  5,  6,  7,  8,  9, 10, 11, 12, 13, 14, 15, 16])"
      ]
     },
     "execution_count": 55,
     "metadata": {},
     "output_type": "execute_result"
    }
   ],
   "source": [
    "ar.flatten() # same work as ravel \n"
   ]
  },
  {
   "cell_type": "code",
   "execution_count": 58,
   "id": "cd386860-138e-4ff3-84b0-03824f63a04d",
   "metadata": {},
   "outputs": [
    {
     "data": {
      "text/plain": [
       "array([[ 1,  5,  9, 13],\n",
       "       [ 2,  6, 10, 14],\n",
       "       [ 3,  7, 11, 15],\n",
       "       [ 4,  8, 12, 16]])"
      ]
     },
     "execution_count": 58,
     "metadata": {},
     "output_type": "execute_result"
    }
   ],
   "source": [
    "ar.transpose() # Row convert into col (always transpose as same as T denoted [ar.T])"
   ]
  },
  {
   "cell_type": "code",
   "execution_count": null,
   "id": "6f589b8b-7430-43e0-91dc-2bd0840fef34",
   "metadata": {},
   "outputs": [],
   "source": []
  }
 ],
 "metadata": {
  "kernelspec": {
   "display_name": "Python [conda env:base] *",
   "language": "python",
   "name": "conda-base-py"
  },
  "language_info": {
   "codemirror_mode": {
    "name": "ipython",
    "version": 3
   },
   "file_extension": ".py",
   "mimetype": "text/x-python",
   "name": "python",
   "nbconvert_exporter": "python",
   "pygments_lexer": "ipython3",
   "version": "3.13.5"
  }
 },
 "nbformat": 4,
 "nbformat_minor": 5
}
